{
 "cells": [
  {
   "cell_type": "markdown",
   "metadata": {},
   "source": [
    "# Importing Modules that we will use in the Course| Santander Open Coders 2024 - Data Science"
   ]
  },
  {
   "cell_type": "markdown",
   "metadata": {},
   "source": [
    "## Module1"
   ]
  },
  {
   "cell_type": "markdown",
   "metadata": {},
   "source": [
    "### Numpy"
   ]
  },
  {
   "cell_type": "code",
   "execution_count": 2,
   "metadata": {},
   "outputs": [],
   "source": [
    "import sklearn as sk\n",
    "import pandas as pd\n",
    "import numpy as np\n",
    "from matplotlib import pyplot"
   ]
  },
  {
   "cell_type": "code",
   "execution_count": 3,
   "metadata": {},
   "outputs": [
    {
     "name": "stdout",
     "output_type": "stream",
     "text": [
      "notas:  [ 9.9  9.8  5.6  4.  10.   7.8]\n",
      "zeros:  [0. 0. 0. 0. 0. 0. 0. 0. 0. 0.]\n"
     ]
    }
   ],
   "source": [
    "#Introduction of Numpy\n",
    "#how make arrays with numpy\n",
    "array = [9.9, 9.8, 5.6, 4, 10, 7.8]\n",
    "#Função que cria um array\n",
    "arr = np.array(array)\n",
    "#fuction that create a array of zeros\n",
    "arr_zeros = np.zeros(10)\n",
    "print(\"notas: \",arr)\n",
    "print(\"zeros: \", arr_zeros)"
   ]
  },
  {
   "cell_type": "code",
   "execution_count": 4,
   "metadata": {},
   "outputs": [
    {
     "data": {
      "text/plain": [
       "array([[0., 0., 0., 0., 0., 0., 0., 0., 0., 0.],\n",
       "       [0., 0., 0., 0., 0., 0., 0., 0., 0., 0.],\n",
       "       [0., 0., 0., 0., 0., 0., 0., 0., 0., 0.],\n",
       "       [0., 0., 0., 0., 0., 0., 0., 0., 0., 0.],\n",
       "       [0., 0., 0., 0., 0., 0., 0., 0., 0., 0.],\n",
       "       [0., 0., 0., 0., 0., 0., 0., 0., 0., 0.],\n",
       "       [0., 0., 0., 0., 0., 0., 0., 0., 0., 0.],\n",
       "       [0., 0., 0., 0., 0., 0., 0., 0., 0., 0.],\n",
       "       [0., 0., 0., 0., 0., 0., 0., 0., 0., 0.],\n",
       "       [0., 0., 0., 0., 0., 0., 0., 0., 0., 0.]])"
      ]
     },
     "execution_count": 4,
     "metadata": {},
     "output_type": "execute_result"
    }
   ],
   "source": [
    "# how make a bidimensional array of zeros\n",
    "#method use the same .arrays but put a tuple(x,y)\n",
    "matriz_zeros = np.zeros((10,10))\n",
    "matriz_zeros"
   ]
  },
  {
   "cell_type": "code",
   "execution_count": 5,
   "metadata": {},
   "outputs": [
    {
     "data": {
      "text/plain": [
       "array([ True, False,  True, False,  True, False,  True, False,  True,\n",
       "       False,  True,  True])"
      ]
     },
     "execution_count": 5,
     "metadata": {},
     "output_type": "execute_result"
    }
   ],
   "source": [
    "# Boolean mask\n",
    "is_covid_positive = np.array(['Yes', 'No','Yes', 'No','Yes', 'No','Yes', 'No','Yes', 'No','Yes', 'Yes'])\n",
    "mask = (is_covid_positive == 'Yes')\n",
    "mask"
   ]
  },
  {
   "cell_type": "code",
   "execution_count": 6,
   "metadata": {},
   "outputs": [
    {
     "data": {
      "text/plain": [
       "array(['c19', 'No', 'c19', 'No', 'c19', 'No', 'c19', 'No', 'c19', 'No',\n",
       "       'c19', 'c19'], dtype='<U3')"
      ]
     },
     "execution_count": 6,
     "metadata": {},
     "output_type": "execute_result"
    }
   ],
   "source": [
    "#Using mask to change contents\n",
    "is_covid_positive[mask] = 'c19'\n",
    "is_covid_positive"
   ]
  },
  {
   "cell_type": "code",
   "execution_count": 7,
   "metadata": {},
   "outputs": [
    {
     "name": "stdout",
     "output_type": "stream",
     "text": [
      "disapproved\n",
      "Aprovedre\n",
      "Aprovedre\n",
      "Aprovedre\n",
      "disapproved\n"
     ]
    }
   ],
   "source": [
    "# Exercise of Boolean mask, make a mask that meets students who be approved\n",
    "notas = np.array([4.9, 6.5, 7, 9, 0])\n",
    "mask_notas = notas >= 5\n",
    "for i in mask_notas:\n",
    "    if i:\n",
    "        print('Aprovedre')\n",
    "    else:\n",
    "        print('disapproved')"
   ]
  },
  {
   "cell_type": "markdown",
   "metadata": {},
   "source": [
    "### Pandas"
   ]
  },
  {
   "cell_type": "code",
   "execution_count": 8,
   "metadata": {},
   "outputs": [
    {
     "data": {
      "text/plain": [
       "[2, 6, 7, 9, 0, 6, 4]"
      ]
     },
     "execution_count": 8,
     "metadata": {},
     "output_type": "execute_result"
    }
   ],
   "source": [
    "# how make a Serie of pandas\n",
    "lista = [2,6,7,9,0,6,4]\n",
    "s_pandas = pd.Series(lista)\n",
    "lista"
   ]
  },
  {
   "cell_type": "code",
   "execution_count": 9,
   "metadata": {},
   "outputs": [
    {
     "data": {
      "text/plain": [
       "8"
      ]
     },
     "execution_count": 9,
     "metadata": {},
     "output_type": "execute_result"
    }
   ],
   "source": [
    "# How make a Series create from a dictionary\n",
    "notas = {'Breno': 8,\n",
    "         'Bruno': 5,\n",
    "         'Bruna': 9,\n",
    "         'leo': 1,\n",
    "         'fabio': 6,}\n",
    "s_notas = pd.Series(notas)\n",
    "#we can show the result in that forms\n",
    "s_notas['Breno'] or s_notas"
   ]
  },
  {
   "cell_type": "code",
   "execution_count": 10,
   "metadata": {},
   "outputs": [
    {
     "name": "stdout",
     "output_type": "stream",
     "text": [
      "<class 'pandas.core.series.Series'>\n",
      "Index: 5 entries, Breno to fabio\n",
      "Series name: None\n",
      "Non-Null Count  Dtype\n",
      "--------------  -----\n",
      "5 non-null      int64\n",
      "dtypes: int64(1)\n",
      "memory usage: 252.0+ bytes\n"
     ]
    }
   ],
   "source": [
    "s_notas.info()"
   ]
  },
  {
   "cell_type": "code",
   "execution_count": 11,
   "metadata": {},
   "outputs": [
    {
     "data": {
      "text/plain": [
       "29"
      ]
     },
     "execution_count": 11,
     "metadata": {},
     "output_type": "execute_result"
    }
   ],
   "source": [
    "s_notas.sum()"
   ]
  },
  {
   "cell_type": "code",
   "execution_count": 12,
   "metadata": {},
   "outputs": [],
   "source": [
    "#Pandas and Dataframes\n",
    "#Make Dict with authors, prices and titles\n",
    "dictionary = {'Autores': ['Gabriel García Márquez','Jane Austen', 'George Orwell','J.K. Rowling','Fyodor Dostoevsky', 'Breno'],\n",
    "              'Titulos': ['Cem Anos de Solidão','Orgulho e Preconceito','1984','Harry Potter e a Pedra Filosofal', 'Crime e Castigo', 'data'],\n",
    "              'Precos' : [15.99, 9.99, 8.99, 10.99, 12.99, 9.99]}"
   ]
  },
  {
   "cell_type": "code",
   "execution_count": 13,
   "metadata": {},
   "outputs": [
    {
     "data": {
      "text/html": [
       "<div>\n",
       "<style scoped>\n",
       "    .dataframe tbody tr th:only-of-type {\n",
       "        vertical-align: middle;\n",
       "    }\n",
       "\n",
       "    .dataframe tbody tr th {\n",
       "        vertical-align: top;\n",
       "    }\n",
       "\n",
       "    .dataframe thead th {\n",
       "        text-align: right;\n",
       "    }\n",
       "</style>\n",
       "<table border=\"1\" class=\"dataframe\">\n",
       "  <thead>\n",
       "    <tr style=\"text-align: right;\">\n",
       "      <th></th>\n",
       "      <th>Autores</th>\n",
       "      <th>Titulos</th>\n",
       "      <th>Precos</th>\n",
       "    </tr>\n",
       "  </thead>\n",
       "  <tbody>\n",
       "    <tr>\n",
       "      <th>0</th>\n",
       "      <td>Gabriel García Márquez</td>\n",
       "      <td>Cem Anos de Solidão</td>\n",
       "      <td>15.99</td>\n",
       "    </tr>\n",
       "    <tr>\n",
       "      <th>1</th>\n",
       "      <td>Jane Austen</td>\n",
       "      <td>Orgulho e Preconceito</td>\n",
       "      <td>9.99</td>\n",
       "    </tr>\n",
       "    <tr>\n",
       "      <th>2</th>\n",
       "      <td>George Orwell</td>\n",
       "      <td>1984</td>\n",
       "      <td>8.99</td>\n",
       "    </tr>\n",
       "    <tr>\n",
       "      <th>3</th>\n",
       "      <td>J.K. Rowling</td>\n",
       "      <td>Harry Potter e a Pedra Filosofal</td>\n",
       "      <td>10.99</td>\n",
       "    </tr>\n",
       "    <tr>\n",
       "      <th>4</th>\n",
       "      <td>Fyodor Dostoevsky</td>\n",
       "      <td>Crime e Castigo</td>\n",
       "      <td>12.99</td>\n",
       "    </tr>\n",
       "    <tr>\n",
       "      <th>5</th>\n",
       "      <td>Breno</td>\n",
       "      <td>data</td>\n",
       "      <td>9.99</td>\n",
       "    </tr>\n",
       "  </tbody>\n",
       "</table>\n",
       "</div>"
      ],
      "text/plain": [
       "                  Autores                           Titulos  Precos\n",
       "0  Gabriel García Márquez               Cem Anos de Solidão   15.99\n",
       "1             Jane Austen             Orgulho e Preconceito    9.99\n",
       "2           George Orwell                              1984    8.99\n",
       "3            J.K. Rowling  Harry Potter e a Pedra Filosofal   10.99\n",
       "4       Fyodor Dostoevsky                   Crime e Castigo   12.99\n",
       "5                   Breno                              data    9.99"
      ]
     },
     "execution_count": 13,
     "metadata": {},
     "output_type": "execute_result"
    }
   ],
   "source": [
    "#making a DataFrame using pandas with dict\n",
    "df = pd.DataFrame(dictionary)\n",
    "df"
   ]
  },
  {
   "cell_type": "code",
   "execution_count": 14,
   "metadata": {},
   "outputs": [
    {
     "data": {
      "text/plain": [
       "11.49"
      ]
     },
     "execution_count": 14,
     "metadata": {},
     "output_type": "execute_result"
    }
   ],
   "source": [
    "\n",
    "df.Precos.mean()"
   ]
  },
  {
   "cell_type": "code",
   "execution_count": 15,
   "metadata": {},
   "outputs": [
    {
     "data": {
      "text/plain": [
       "0    Gabriel García Márquez\n",
       "1               Jane Austen\n",
       "2             George Orwell\n",
       "3              J.K. Rowling\n",
       "4         Fyodor Dostoevsky\n",
       "5                     Breno\n",
       "Name: Autores, dtype: object"
      ]
     },
     "execution_count": 15,
     "metadata": {},
     "output_type": "execute_result"
    }
   ],
   "source": [
    "df['Autores']"
   ]
  },
  {
   "cell_type": "code",
   "execution_count": 16,
   "metadata": {},
   "outputs": [
    {
     "data": {
      "text/plain": [
       "0     True\n",
       "1    False\n",
       "2    False\n",
       "3    False\n",
       "4    False\n",
       "5    False\n",
       "Name: Autores, dtype: bool"
      ]
     },
     "execution_count": 16,
     "metadata": {},
     "output_type": "execute_result"
    }
   ],
   "source": [
    "df.Autores == 'Gabriel García Márquez'"
   ]
  },
  {
   "cell_type": "code",
   "execution_count": 17,
   "metadata": {},
   "outputs": [
    {
     "data": {
      "text/html": [
       "<div>\n",
       "<style scoped>\n",
       "    .dataframe tbody tr th:only-of-type {\n",
       "        vertical-align: middle;\n",
       "    }\n",
       "\n",
       "    .dataframe tbody tr th {\n",
       "        vertical-align: top;\n",
       "    }\n",
       "\n",
       "    .dataframe thead th {\n",
       "        text-align: right;\n",
       "    }\n",
       "</style>\n",
       "<table border=\"1\" class=\"dataframe\">\n",
       "  <thead>\n",
       "    <tr style=\"text-align: right;\">\n",
       "      <th></th>\n",
       "      <th>Autores</th>\n",
       "      <th>Titulos</th>\n",
       "      <th>Precos</th>\n",
       "    </tr>\n",
       "  </thead>\n",
       "  <tbody>\n",
       "    <tr>\n",
       "      <th>0</th>\n",
       "      <td>Gabriel García Márquez</td>\n",
       "      <td>Cem Anos de Solidão</td>\n",
       "      <td>15.99</td>\n",
       "    </tr>\n",
       "    <tr>\n",
       "      <th>1</th>\n",
       "      <td>Jane Austen</td>\n",
       "      <td>Orgulho e Preconceito</td>\n",
       "      <td>9.99</td>\n",
       "    </tr>\n",
       "    <tr>\n",
       "      <th>2</th>\n",
       "      <td>George Orwell</td>\n",
       "      <td>1984</td>\n",
       "      <td>8.99</td>\n",
       "    </tr>\n",
       "    <tr>\n",
       "      <th>3</th>\n",
       "      <td>J.K. Rowling</td>\n",
       "      <td>Harry Potter e a Pedra Filosofal</td>\n",
       "      <td>10.99</td>\n",
       "    </tr>\n",
       "    <tr>\n",
       "      <th>4</th>\n",
       "      <td>Fyodor Dostoevsky</td>\n",
       "      <td>Crime e Castigo</td>\n",
       "      <td>12.99</td>\n",
       "    </tr>\n",
       "    <tr>\n",
       "      <th>5</th>\n",
       "      <td>Breno</td>\n",
       "      <td>data</td>\n",
       "      <td>9.99</td>\n",
       "    </tr>\n",
       "  </tbody>\n",
       "</table>\n",
       "</div>"
      ],
      "text/plain": [
       "                  Autores                           Titulos  Precos\n",
       "0  Gabriel García Márquez               Cem Anos de Solidão   15.99\n",
       "1             Jane Austen             Orgulho e Preconceito    9.99\n",
       "2           George Orwell                              1984    8.99\n",
       "3            J.K. Rowling  Harry Potter e a Pedra Filosofal   10.99\n",
       "4       Fyodor Dostoevsky                   Crime e Castigo   12.99\n",
       "5                   Breno                              data    9.99"
      ]
     },
     "execution_count": 17,
     "metadata": {},
     "output_type": "execute_result"
    }
   ],
   "source": [
    "df"
   ]
  },
  {
   "cell_type": "code",
   "execution_count": 18,
   "metadata": {},
   "outputs": [],
   "source": [
    "df = df._append({'Autores':'Rick Riodman', 'Titulos' : 'A maldicao do tita', 'Precos' : 9.98}, ignore_index=True)"
   ]
  },
  {
   "cell_type": "code",
   "execution_count": 19,
   "metadata": {},
   "outputs": [
    {
     "data": {
      "text/html": [
       "<div>\n",
       "<style scoped>\n",
       "    .dataframe tbody tr th:only-of-type {\n",
       "        vertical-align: middle;\n",
       "    }\n",
       "\n",
       "    .dataframe tbody tr th {\n",
       "        vertical-align: top;\n",
       "    }\n",
       "\n",
       "    .dataframe thead th {\n",
       "        text-align: right;\n",
       "    }\n",
       "</style>\n",
       "<table border=\"1\" class=\"dataframe\">\n",
       "  <thead>\n",
       "    <tr style=\"text-align: right;\">\n",
       "      <th></th>\n",
       "      <th>Autores</th>\n",
       "      <th>Titulos</th>\n",
       "      <th>Precos</th>\n",
       "    </tr>\n",
       "  </thead>\n",
       "  <tbody>\n",
       "    <tr>\n",
       "      <th>0</th>\n",
       "      <td>Gabriel García Márquez</td>\n",
       "      <td>Cem Anos de Solidão</td>\n",
       "      <td>15.99</td>\n",
       "    </tr>\n",
       "    <tr>\n",
       "      <th>1</th>\n",
       "      <td>Jane Austen</td>\n",
       "      <td>Orgulho e Preconceito</td>\n",
       "      <td>9.99</td>\n",
       "    </tr>\n",
       "    <tr>\n",
       "      <th>2</th>\n",
       "      <td>George Orwell</td>\n",
       "      <td>1984</td>\n",
       "      <td>8.99</td>\n",
       "    </tr>\n",
       "    <tr>\n",
       "      <th>3</th>\n",
       "      <td>J.K. Rowling</td>\n",
       "      <td>Harry Potter e a Pedra Filosofal</td>\n",
       "      <td>10.99</td>\n",
       "    </tr>\n",
       "    <tr>\n",
       "      <th>4</th>\n",
       "      <td>Fyodor Dostoevsky</td>\n",
       "      <td>Crime e Castigo</td>\n",
       "      <td>12.99</td>\n",
       "    </tr>\n",
       "    <tr>\n",
       "      <th>5</th>\n",
       "      <td>Breno</td>\n",
       "      <td>data</td>\n",
       "      <td>9.99</td>\n",
       "    </tr>\n",
       "    <tr>\n",
       "      <th>6</th>\n",
       "      <td>Rick Riodman</td>\n",
       "      <td>A maldicao do tita</td>\n",
       "      <td>9.98</td>\n",
       "    </tr>\n",
       "  </tbody>\n",
       "</table>\n",
       "</div>"
      ],
      "text/plain": [
       "                  Autores                           Titulos  Precos\n",
       "0  Gabriel García Márquez               Cem Anos de Solidão   15.99\n",
       "1             Jane Austen             Orgulho e Preconceito    9.99\n",
       "2           George Orwell                              1984    8.99\n",
       "3            J.K. Rowling  Harry Potter e a Pedra Filosofal   10.99\n",
       "4       Fyodor Dostoevsky                   Crime e Castigo   12.99\n",
       "5                   Breno                              data    9.99\n",
       "6            Rick Riodman                A maldicao do tita    9.98"
      ]
     },
     "execution_count": 19,
     "metadata": {},
     "output_type": "execute_result"
    }
   ],
   "source": [
    "df"
   ]
  },
  {
   "cell_type": "code",
   "execution_count": 20,
   "metadata": {},
   "outputs": [
    {
     "data": {
      "text/html": [
       "<div>\n",
       "<style scoped>\n",
       "    .dataframe tbody tr th:only-of-type {\n",
       "        vertical-align: middle;\n",
       "    }\n",
       "\n",
       "    .dataframe tbody tr th {\n",
       "        vertical-align: top;\n",
       "    }\n",
       "\n",
       "    .dataframe thead th {\n",
       "        text-align: right;\n",
       "    }\n",
       "</style>\n",
       "<table border=\"1\" class=\"dataframe\">\n",
       "  <thead>\n",
       "    <tr style=\"text-align: right;\">\n",
       "      <th></th>\n",
       "      <th>Autores</th>\n",
       "      <th>Titulos</th>\n",
       "      <th>Precos</th>\n",
       "    </tr>\n",
       "  </thead>\n",
       "  <tbody>\n",
       "    <tr>\n",
       "      <th>0</th>\n",
       "      <td>Gabriel García Márquez</td>\n",
       "      <td>Cem Anos de Solidão</td>\n",
       "      <td>15.99</td>\n",
       "    </tr>\n",
       "    <tr>\n",
       "      <th>1</th>\n",
       "      <td>Jane Austen</td>\n",
       "      <td>Orgulho e Preconceito</td>\n",
       "      <td>9.99</td>\n",
       "    </tr>\n",
       "    <tr>\n",
       "      <th>2</th>\n",
       "      <td>George Orwell</td>\n",
       "      <td>1984</td>\n",
       "      <td>8.99</td>\n",
       "    </tr>\n",
       "    <tr>\n",
       "      <th>3</th>\n",
       "      <td>J.K. Rowling</td>\n",
       "      <td>Harry Potter e a Pedra Filosofal</td>\n",
       "      <td>10.99</td>\n",
       "    </tr>\n",
       "    <tr>\n",
       "      <th>4</th>\n",
       "      <td>Fyodor Dostoevsky</td>\n",
       "      <td>Crime e Castigo</td>\n",
       "      <td>12.99</td>\n",
       "    </tr>\n",
       "    <tr>\n",
       "      <th>5</th>\n",
       "      <td>Breno</td>\n",
       "      <td>data</td>\n",
       "      <td>9.99</td>\n",
       "    </tr>\n",
       "    <tr>\n",
       "      <th>6</th>\n",
       "      <td>Rick Riodman</td>\n",
       "      <td>A Maldição do Titã</td>\n",
       "      <td>9.98</td>\n",
       "    </tr>\n",
       "  </tbody>\n",
       "</table>\n",
       "</div>"
      ],
      "text/plain": [
       "                  Autores                           Titulos  Precos\n",
       "0  Gabriel García Márquez               Cem Anos de Solidão   15.99\n",
       "1             Jane Austen             Orgulho e Preconceito    9.99\n",
       "2           George Orwell                              1984    8.99\n",
       "3            J.K. Rowling  Harry Potter e a Pedra Filosofal   10.99\n",
       "4       Fyodor Dostoevsky                   Crime e Castigo   12.99\n",
       "5                   Breno                              data    9.99\n",
       "6            Rick Riodman                A Maldição do Titã    9.98"
      ]
     },
     "execution_count": 20,
     "metadata": {},
     "output_type": "execute_result"
    }
   ],
   "source": [
    "mascara_correcao = df['Titulos'] == 'A maldicao do tita'\n",
    "df.loc[mascara_correcao, 'Titulos'] = 'A Maldição do Titã'\n",
    "df"
   ]
  },
  {
   "cell_type": "code",
   "execution_count": 21,
   "metadata": {},
   "outputs": [],
   "source": [
    "df = df._append({'Autores': 'J.K. Rowling', 'Titulos': 'Harry Potter e a Câmara Secreta', 'Precos': 11.99}, ignore_index=True)\n",
    "df = df._append({'Autores': 'J.K. Rowling', 'Titulos': 'Harry Potter e o Prisioneiro de Azkaban', 'Precos': 12.99}, ignore_index=True)\n",
    "df = df._append({'Autores': 'J.K. Rowling', 'Titulos': 'Harry Potter e o Cálice de Fogo', 'Precos': 13.99}, ignore_index=True)\n",
    "df = df._append({'Autores': 'J.K. Rowling', 'Titulos': 'Harry Potter e a Ordem da Fênix', 'Precos': 14.99}, ignore_index=True)\n",
    "df = df._append({'Autores': 'J.K. Rowling', 'Titulos': 'Harry Potter e o Enigma do Príncipe', 'Precos': 15.99}, ignore_index=True)\n",
    "df = df._append({'Autores': 'J.K. Rowling', 'Titulos': 'Harry Potter e as Relíquias da Morte', 'Precos': 16.99}, ignore_index=True)\n"
   ]
  },
  {
   "cell_type": "code",
   "execution_count": 22,
   "metadata": {},
   "outputs": [
    {
     "data": {
      "text/html": [
       "<div>\n",
       "<style scoped>\n",
       "    .dataframe tbody tr th:only-of-type {\n",
       "        vertical-align: middle;\n",
       "    }\n",
       "\n",
       "    .dataframe tbody tr th {\n",
       "        vertical-align: top;\n",
       "    }\n",
       "\n",
       "    .dataframe thead th {\n",
       "        text-align: right;\n",
       "    }\n",
       "</style>\n",
       "<table border=\"1\" class=\"dataframe\">\n",
       "  <thead>\n",
       "    <tr style=\"text-align: right;\">\n",
       "      <th></th>\n",
       "      <th>Autores</th>\n",
       "      <th>Titulos</th>\n",
       "      <th>Precos</th>\n",
       "    </tr>\n",
       "  </thead>\n",
       "  <tbody>\n",
       "    <tr>\n",
       "      <th>3</th>\n",
       "      <td>J.K. Rowling</td>\n",
       "      <td>Harry Potter e a Pedra Filosofal</td>\n",
       "      <td>10.99</td>\n",
       "    </tr>\n",
       "    <tr>\n",
       "      <th>7</th>\n",
       "      <td>J.K. Rowling</td>\n",
       "      <td>Harry Potter e a Câmara Secreta</td>\n",
       "      <td>11.99</td>\n",
       "    </tr>\n",
       "    <tr>\n",
       "      <th>8</th>\n",
       "      <td>J.K. Rowling</td>\n",
       "      <td>Harry Potter e o Prisioneiro de Azkaban</td>\n",
       "      <td>12.99</td>\n",
       "    </tr>\n",
       "    <tr>\n",
       "      <th>9</th>\n",
       "      <td>J.K. Rowling</td>\n",
       "      <td>Harry Potter e o Cálice de Fogo</td>\n",
       "      <td>13.99</td>\n",
       "    </tr>\n",
       "    <tr>\n",
       "      <th>10</th>\n",
       "      <td>J.K. Rowling</td>\n",
       "      <td>Harry Potter e a Ordem da Fênix</td>\n",
       "      <td>14.99</td>\n",
       "    </tr>\n",
       "    <tr>\n",
       "      <th>11</th>\n",
       "      <td>J.K. Rowling</td>\n",
       "      <td>Harry Potter e o Enigma do Príncipe</td>\n",
       "      <td>15.99</td>\n",
       "    </tr>\n",
       "    <tr>\n",
       "      <th>12</th>\n",
       "      <td>J.K. Rowling</td>\n",
       "      <td>Harry Potter e as Relíquias da Morte</td>\n",
       "      <td>16.99</td>\n",
       "    </tr>\n",
       "  </tbody>\n",
       "</table>\n",
       "</div>"
      ],
      "text/plain": [
       "         Autores                                  Titulos  Precos\n",
       "3   J.K. Rowling         Harry Potter e a Pedra Filosofal   10.99\n",
       "7   J.K. Rowling          Harry Potter e a Câmara Secreta   11.99\n",
       "8   J.K. Rowling  Harry Potter e o Prisioneiro de Azkaban   12.99\n",
       "9   J.K. Rowling          Harry Potter e o Cálice de Fogo   13.99\n",
       "10  J.K. Rowling          Harry Potter e a Ordem da Fênix   14.99\n",
       "11  J.K. Rowling      Harry Potter e o Enigma do Príncipe   15.99\n",
       "12  J.K. Rowling     Harry Potter e as Relíquias da Morte   16.99"
      ]
     },
     "execution_count": 22,
     "metadata": {},
     "output_type": "execute_result"
    }
   ],
   "source": [
    "mascara_autor = df['Autores'] == 'J.K. Rowling'\n",
    "df[mascara_autor]"
   ]
  },
  {
   "cell_type": "code",
   "execution_count": 23,
   "metadata": {},
   "outputs": [
    {
     "data": {
      "text/html": [
       "<div>\n",
       "<style scoped>\n",
       "    .dataframe tbody tr th:only-of-type {\n",
       "        vertical-align: middle;\n",
       "    }\n",
       "\n",
       "    .dataframe tbody tr th {\n",
       "        vertical-align: top;\n",
       "    }\n",
       "\n",
       "    .dataframe thead th {\n",
       "        text-align: right;\n",
       "    }\n",
       "</style>\n",
       "<table border=\"1\" class=\"dataframe\">\n",
       "  <thead>\n",
       "    <tr style=\"text-align: right;\">\n",
       "      <th></th>\n",
       "      <th>Unnamed: 0</th>\n",
       "      <th>team</th>\n",
       "      <th>NO_SOG_participated</th>\n",
       "      <th>SOG_gold</th>\n",
       "      <th>SOG_silver</th>\n",
       "      <th>SOG_bronze</th>\n",
       "      <th>SOG_total_medals</th>\n",
       "      <th>NO_WOG_participated</th>\n",
       "      <th>WOG_gold</th>\n",
       "      <th>WOG_silver</th>\n",
       "      <th>WOG_bronze</th>\n",
       "      <th>WOG_total_medals</th>\n",
       "    </tr>\n",
       "  </thead>\n",
       "  <tbody>\n",
       "    <tr>\n",
       "      <th>0</th>\n",
       "      <td>0</td>\n",
       "      <td>Afghanistan (AFG)</td>\n",
       "      <td>15</td>\n",
       "      <td>0</td>\n",
       "      <td>0</td>\n",
       "      <td>2</td>\n",
       "      <td>2</td>\n",
       "      <td>0</td>\n",
       "      <td>0</td>\n",
       "      <td>0</td>\n",
       "      <td>0</td>\n",
       "      <td>0</td>\n",
       "    </tr>\n",
       "    <tr>\n",
       "      <th>1</th>\n",
       "      <td>1</td>\n",
       "      <td>Algeria (ALG)</td>\n",
       "      <td>14</td>\n",
       "      <td>5</td>\n",
       "      <td>4</td>\n",
       "      <td>8</td>\n",
       "      <td>17</td>\n",
       "      <td>3</td>\n",
       "      <td>0</td>\n",
       "      <td>0</td>\n",
       "      <td>0</td>\n",
       "      <td>0</td>\n",
       "    </tr>\n",
       "    <tr>\n",
       "      <th>2</th>\n",
       "      <td>2</td>\n",
       "      <td>Argentina (ARG)</td>\n",
       "      <td>25</td>\n",
       "      <td>21</td>\n",
       "      <td>26</td>\n",
       "      <td>30</td>\n",
       "      <td>77</td>\n",
       "      <td>20</td>\n",
       "      <td>0</td>\n",
       "      <td>0</td>\n",
       "      <td>0</td>\n",
       "      <td>0</td>\n",
       "    </tr>\n",
       "    <tr>\n",
       "      <th>3</th>\n",
       "      <td>3</td>\n",
       "      <td>Armenia (ARM)</td>\n",
       "      <td>7</td>\n",
       "      <td>2</td>\n",
       "      <td>8</td>\n",
       "      <td>8</td>\n",
       "      <td>18</td>\n",
       "      <td>8</td>\n",
       "      <td>0</td>\n",
       "      <td>0</td>\n",
       "      <td>0</td>\n",
       "      <td>0</td>\n",
       "    </tr>\n",
       "    <tr>\n",
       "      <th>4</th>\n",
       "      <td>4</td>\n",
       "      <td>Australasia (ANZ) [ANZ]</td>\n",
       "      <td>2</td>\n",
       "      <td>3</td>\n",
       "      <td>4</td>\n",
       "      <td>5</td>\n",
       "      <td>12</td>\n",
       "      <td>0</td>\n",
       "      <td>0</td>\n",
       "      <td>0</td>\n",
       "      <td>0</td>\n",
       "      <td>0</td>\n",
       "    </tr>\n",
       "  </tbody>\n",
       "</table>\n",
       "</div>"
      ],
      "text/plain": [
       "   Unnamed: 0                     team  NO_SOG_participated SOG_gold  \\\n",
       "0           0        Afghanistan (AFG)                   15        0   \n",
       "1           1            Algeria (ALG)                   14        5   \n",
       "2           2          Argentina (ARG)                   25       21   \n",
       "3           3            Armenia (ARM)                    7        2   \n",
       "4           4  Australasia (ANZ) [ANZ]                    2        3   \n",
       "\n",
       "   SOG_silver  SOG_bronze SOG_total_medals  NO_WOG_participated  WOG_gold  \\\n",
       "0           0           2                2                    0         0   \n",
       "1           4           8               17                    3         0   \n",
       "2          26          30               77                   20         0   \n",
       "3           8           8               18                    8         0   \n",
       "4           4           5               12                    0         0   \n",
       "\n",
       "   WOG_silver  WOG_bronze  WOG_total_medals  \n",
       "0           0           0                 0  \n",
       "1           0           0                 0  \n",
       "2           0           0                 0  \n",
       "3           0           0                 0  \n",
       "4           0           0                 0  "
      ]
     },
     "execution_count": 23,
     "metadata": {},
     "output_type": "execute_result"
    }
   ],
   "source": [
    "#using csv to be statistical calculation\n",
    "medalhistas = pd.read_csv('National_Olympic_Committee_2022_medals.csv')\n",
    "df_madalhas = pd.DataFrame(medalhistas)\n",
    "#function head in standart mode, show the first 5 rows of the dataframe\n",
    "df_madalhas.head()"
   ]
  },
  {
   "cell_type": "code",
   "execution_count": 24,
   "metadata": {},
   "outputs": [
    {
     "data": {
      "text/plain": [
       "Index(['Unnamed: 0', 'team', 'NO_SOG_participated', 'SOG_gold', 'SOG_silver',\n",
       "       'SOG_bronze', 'SOG_total_medals', 'NO_WOG_participated', 'WOG_gold',\n",
       "       'WOG_silver', 'WOG_bronze', 'WOG_total_medals'],\n",
       "      dtype='object')"
      ]
     },
     "execution_count": 24,
     "metadata": {},
     "output_type": "execute_result"
    }
   ],
   "source": [
    "#function used to show the name of columns\n",
    "df_madalhas.columns"
   ]
  },
  {
   "cell_type": "code",
   "execution_count": 25,
   "metadata": {},
   "outputs": [
    {
     "name": "stdout",
     "output_type": "stream",
     "text": [
      "<class 'pandas.core.frame.DataFrame'>\n",
      "RangeIndex: 150 entries, 0 to 149\n",
      "Data columns (total 12 columns):\n",
      " #   Column               Non-Null Count  Dtype \n",
      "---  ------               --------------  ----- \n",
      " 0   Unnamed: 0           150 non-null    int64 \n",
      " 1   team                 150 non-null    object\n",
      " 2   NO_SOG_participated  150 non-null    int64 \n",
      " 3   SOG_gold             150 non-null    object\n",
      " 4   SOG_silver           150 non-null    int64 \n",
      " 5   SOG_bronze           150 non-null    int64 \n",
      " 6   SOG_total_medals     150 non-null    object\n",
      " 7   NO_WOG_participated  150 non-null    int64 \n",
      " 8   WOG_gold             150 non-null    int64 \n",
      " 9   WOG_silver           150 non-null    int64 \n",
      " 10  WOG_bronze           150 non-null    int64 \n",
      " 11  WOG_total_medals     150 non-null    int64 \n",
      "dtypes: int64(9), object(3)\n",
      "memory usage: 14.2+ KB\n"
     ]
    }
   ],
   "source": [
    "#you can use this function to show some information about the dataframe\n",
    "df_madalhas.info()"
   ]
  },
  {
   "cell_type": "code",
   "execution_count": 26,
   "metadata": {},
   "outputs": [
    {
     "data": {
      "text/plain": [
       "NO_SOG_participated\n",
       "7     15\n",
       "15    14\n",
       "10    10\n",
       "18     9\n",
       "13     9\n",
       "17     8\n",
       "11     7\n",
       "14     7\n",
       "27     6\n",
       "16     6\n",
       "28     5\n",
       "22     5\n",
       "29     4\n",
       "19     4\n",
       "3      4\n",
       "23     4\n",
       "25     4\n",
       "24     4\n",
       "5      3\n",
       "21     3\n",
       "8      3\n",
       "1      3\n",
       "9      2\n",
       "6      2\n",
       "20     2\n",
       "2      2\n",
       "12     2\n",
       "26     1\n",
       "4      1\n",
       "0      1\n",
       "Name: count, dtype: int64"
      ]
     },
     "execution_count": 26,
     "metadata": {},
     "output_type": "execute_result"
    }
   ],
   "source": [
    "df_madalhas['NO_SOG_participated'].value_counts()"
   ]
  },
  {
   "cell_type": "code",
   "execution_count": 27,
   "metadata": {},
   "outputs": [
    {
     "data": {
      "text/html": [
       "<div>\n",
       "<style scoped>\n",
       "    .dataframe tbody tr th:only-of-type {\n",
       "        vertical-align: middle;\n",
       "    }\n",
       "\n",
       "    .dataframe tbody tr th {\n",
       "        vertical-align: top;\n",
       "    }\n",
       "\n",
       "    .dataframe thead th {\n",
       "        text-align: right;\n",
       "    }\n",
       "</style>\n",
       "<table border=\"1\" class=\"dataframe\">\n",
       "  <thead>\n",
       "    <tr style=\"text-align: right;\">\n",
       "      <th></th>\n",
       "      <th>mean</th>\n",
       "      <th>median</th>\n",
       "    </tr>\n",
       "    <tr>\n",
       "      <th>team</th>\n",
       "      <th></th>\n",
       "      <th></th>\n",
       "    </tr>\n",
       "  </thead>\n",
       "  <tbody>\n",
       "    <tr>\n",
       "      <th>Afghanistan (AFG)</th>\n",
       "      <td>0.0</td>\n",
       "      <td>0.0</td>\n",
       "    </tr>\n",
       "    <tr>\n",
       "      <th>Algeria (ALG)</th>\n",
       "      <td>3.0</td>\n",
       "      <td>3.0</td>\n",
       "    </tr>\n",
       "    <tr>\n",
       "      <th>Argentina (ARG)</th>\n",
       "      <td>20.0</td>\n",
       "      <td>20.0</td>\n",
       "    </tr>\n",
       "    <tr>\n",
       "      <th>Armenia (ARM)</th>\n",
       "      <td>8.0</td>\n",
       "      <td>8.0</td>\n",
       "    </tr>\n",
       "    <tr>\n",
       "      <th>Australasia (ANZ) [ANZ]</th>\n",
       "      <td>0.0</td>\n",
       "      <td>0.0</td>\n",
       "    </tr>\n",
       "    <tr>\n",
       "      <th>...</th>\n",
       "      <td>...</td>\n",
       "      <td>...</td>\n",
       "    </tr>\n",
       "    <tr>\n",
       "      <th>Uzbekistan (UZB)</th>\n",
       "      <td>8.0</td>\n",
       "      <td>8.0</td>\n",
       "    </tr>\n",
       "    <tr>\n",
       "      <th>Venezuela (VEN)</th>\n",
       "      <td>4.0</td>\n",
       "      <td>4.0</td>\n",
       "    </tr>\n",
       "    <tr>\n",
       "      <th>Vietnam (VIE)</th>\n",
       "      <td>0.0</td>\n",
       "      <td>0.0</td>\n",
       "    </tr>\n",
       "    <tr>\n",
       "      <th>Virgin Islands (ISV)</th>\n",
       "      <td>8.0</td>\n",
       "      <td>8.0</td>\n",
       "    </tr>\n",
       "    <tr>\n",
       "      <th>West Germany (FRG) [FRG]</th>\n",
       "      <td>6.0</td>\n",
       "      <td>6.0</td>\n",
       "    </tr>\n",
       "  </tbody>\n",
       "</table>\n",
       "<p>150 rows × 2 columns</p>\n",
       "</div>"
      ],
      "text/plain": [
       "                          mean  median\n",
       "team                                  \n",
       "Afghanistan (AFG)          0.0     0.0\n",
       "Algeria (ALG)              3.0     3.0\n",
       "Argentina (ARG)           20.0    20.0\n",
       "Armenia (ARM)              8.0     8.0\n",
       "Australasia (ANZ) [ANZ]    0.0     0.0\n",
       "...                        ...     ...\n",
       "Uzbekistan (UZB)           8.0     8.0\n",
       "Venezuela (VEN)            4.0     4.0\n",
       "Vietnam (VIE)              0.0     0.0\n",
       "Virgin Islands (ISV)       8.0     8.0\n",
       "West Germany (FRG) [FRG]   6.0     6.0\n",
       "\n",
       "[150 rows x 2 columns]"
      ]
     },
     "execution_count": 27,
     "metadata": {},
     "output_type": "execute_result"
    }
   ],
   "source": [
    "df_madalhas.groupby(['team'])['NO_WOG_participated'].agg(['mean','median'])"
   ]
  },
  {
   "cell_type": "code",
   "execution_count": 42,
   "metadata": {},
   "outputs": [
    {
     "name": "stdout",
     "output_type": "stream",
     "text": [
      "<class 'pandas.core.frame.DataFrame'>\n",
      "RangeIndex: 13640 entries, 0 to 13639\n",
      "Data columns (total 16 columns):\n",
      " #   Column            Non-Null Count  Dtype  \n",
      "---  ------            --------------  -----  \n",
      " 0   Price             13640 non-null  int64  \n",
      " 1   Condo             13640 non-null  int64  \n",
      " 2   Size              13640 non-null  int64  \n",
      " 3   Rooms             13640 non-null  int64  \n",
      " 4   Toilets           13640 non-null  int64  \n",
      " 5   Suites            13640 non-null  int64  \n",
      " 6   Parking           13640 non-null  int64  \n",
      " 7   Elevator          13640 non-null  int64  \n",
      " 8   Furnished         13640 non-null  int64  \n",
      " 9   Swimming Pool     13640 non-null  int64  \n",
      " 10  New               13640 non-null  int64  \n",
      " 11  District          13640 non-null  object \n",
      " 12  Negotiation Type  13640 non-null  object \n",
      " 13  Property Type     13640 non-null  object \n",
      " 14  Latitude          13640 non-null  float64\n",
      " 15  Longitude         13640 non-null  float64\n",
      "dtypes: float64(2), int64(11), object(3)\n",
      "memory usage: 1.7+ MB\n"
     ]
    }
   ],
   "source": [
    "casas_saopaulo = pd.read_csv('sao-paulo-properties-april-2019.csv')\n",
    "df_casas = pd.DataFrame(casas_saopaulo)\n",
    "df_casas.info()"
   ]
  },
  {
   "cell_type": "code",
   "execution_count": 45,
   "metadata": {},
   "outputs": [
    {
     "name": "stdout",
     "output_type": "stream",
     "text": [
      "Price                                1170\n",
      "Condo                                   0\n",
      "Size                                   50\n",
      "Rooms                                   2\n",
      "Toilets                                 2\n",
      "Suites                                  1\n",
      "Parking                                 1\n",
      "Elevator                                0\n",
      "Furnished                               0\n",
      "Swimming Pool                           0\n",
      "New                                     0\n",
      "District            Artur Alvim/São Paulo\n",
      "Negotiation Type                     rent\n",
      "Property Type                   apartment\n",
      "Latitude                       -23.548751\n",
      "Longitude                      -46.477195\n",
      "Name: 5, dtype: object\n"
     ]
    }
   ],
   "source": [
    "def limpa_preco(linha):\n",
    "    print(linha)\n",
    "\n",
    "auxliar = df_casas.loc[5]\n",
    "limpa_preco(auxliar)"
   ]
  },
  {
   "cell_type": "markdown",
   "metadata": {},
   "source": [
    "## Making graphs"
   ]
  },
  {
   "cell_type": "code",
   "execution_count": 51,
   "metadata": {},
   "outputs": [
    {
     "data": {
      "image/png": "[encoded data removed]",
      "text/plain": [
       "<Figure size 640x480 with 1 Axes>"
      ]
     },
     "metadata": {},
     "output_type": "display_data"
    }
   ],
   "source": [
    "pyplot.bar(df_casas.Suites, df_casas.Price )\n",
    "pyplot.title('Suites por Preco')\n",
    "pyplot.xlabel()\n",
    "pyplot.show()"
   ]
  }
 ],
 "metadata": {
  "kernelspec": {
   "display_name": "Python 3 (ipykernel)",
   "language": "python",
   "name": "python3"
  },
  "language_info": {
   "codemirror_mode": {
    "name": "ipython",
    "version": 3
   },
   "file_extension": ".py",
   "mimetype": "text/x-python",
   "name": "python",
   "nbconvert_exporter": "python",
   "pygments_lexer": "ipython3",
   "version": "3.11.9"
  }
 },
 "nbformat": 4,
 "nbformat_minor": 4
}
